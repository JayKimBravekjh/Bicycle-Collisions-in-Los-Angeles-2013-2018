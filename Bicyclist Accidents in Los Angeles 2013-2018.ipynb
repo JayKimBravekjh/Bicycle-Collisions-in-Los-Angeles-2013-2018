{
 "cells": [
  {
   "cell_type": "code",
   "execution_count": 1,
   "metadata": {
    "ExecuteTime": {
     "end_time": "2019-03-04T04:49:43.672357Z",
     "start_time": "2019-03-04T04:49:37.419506Z"
    }
   },
   "outputs": [],
   "source": [
    "import pandas as pd\n",
    "import geopandas as gpd\n",
    "import folium\n",
    "import matplotlib.pyplot as plt\n",
    "import seaborn as sns\n",
    "import plotly.plotly as py\n",
    "import numpy as np\n",
    "from IPython.display import display\n",
    "from folium import plugins\n",
    "from folium.plugins import HeatMap\n",
    "from folium.plugins import FastMarkerCluster\n",
    "from folium.plugins import MarkerCluster\n",
    "%matplotlib inline\n",
    "import os\n",
    "\n",
    "pd.options.display.max_columns = None"
   ]
  },
  {
   "cell_type": "markdown",
   "metadata": {},
   "source": [
    "# Data Source"
   ]
  },
  {
   "cell_type": "code",
   "execution_count": 2,
   "metadata": {
    "ExecuteTime": {
     "end_time": "2019-03-04T04:49:48.279615Z",
     "start_time": "2019-03-04T04:49:43.676358Z"
    }
   },
   "outputs": [],
   "source": [
    "csv = '/Users/nonoumasy/Dropbox/reference/data/Los_Angeles_Collisions_2013through2018.csv'\n",
    "df = pd.read_csv(csv)"
   ]
  },
  {
   "cell_type": "markdown",
   "metadata": {},
   "source": [
    "# Pre-process data"
   ]
  },
  {
   "cell_type": "code",
   "execution_count": 4,
   "metadata": {
    "ExecuteTime": {
     "end_time": "2019-03-04T04:50:59.702782Z",
     "start_time": "2019-03-04T04:50:59.529751Z"
    }
   },
   "outputs": [],
   "source": [
    "#column cleanup\n",
    "df.columns = df.columns.str.lower().str.replace(' ', '_').str.replace('(', '').str.replace(')', '')  \n",
    "\n",
    "#drop duplicate rows\n",
    "df.drop_duplicates(keep='first')  \n",
    "\n",
    "#replaces missing values with a value\n",
    "df.fillna(value=0 ,inplace=True)  \n",
    "\n",
    "#use only these columns\n",
    "df = df[['accident_year','proc_date', 'juris','collision_date', 'collision_time',\n",
    "         'day_of_week','primary_rd', 'secondary_rd', 'direction', 'intersection',\n",
    "         'hit_and_run','type_of_collision', 'road_surface', 'road_cond_1', 'lighting',\n",
    "         'bicycle_accident', 'alcohol_involved', 'count_bicyclist_killed', 'count_bicyclist_injured',\n",
    "         'month_', 'point_x', 'point_y', 'match_addr', 'm_primaryrd', 'm_secondrd',]]  \n",
    "\n",
    "#bicycle accidents dataset\n",
    "df = df[df['bicycle_accident'] == 'Y']\n",
    "\n",
    "#drop an outlier datapoint\n",
    "df = df[df.match_addr != '2ND ST & AZUSA AVE,, CA']\n",
    "\n",
    "#atwater dataset\n",
    "atwater = df[(df.point_x <= -118.24) & (df.point_x >= -118.27) & (df.point_y >= 34.10) & (df.point_y <= 34.15)]  \n"
   ]
  },
  {
   "cell_type": "code",
   "execution_count": 7,
   "metadata": {
    "ExecuteTime": {
     "end_time": "2019-03-04T04:51:20.419528Z",
     "start_time": "2019-03-04T04:51:20.412319Z"
    }
   },
   "outputs": [
    {
     "data": {
      "text/plain": [
       "Index(['accident_year', 'proc_date', 'juris', 'collision_date',\n",
       "       'collision_time', 'day_of_week', 'primary_rd', 'secondary_rd',\n",
       "       'direction', 'intersection', 'hit_and_run', 'type_of_collision',\n",
       "       'road_surface', 'road_cond_1', 'lighting', 'bicycle_accident',\n",
       "       'alcohol_involved', 'count_bicyclist_killed', 'count_bicyclist_injured',\n",
       "       'month_', 'point_x', 'point_y', 'match_addr', 'm_primaryrd',\n",
       "       'm_secondrd'],\n",
       "      dtype='object')"
      ]
     },
     "execution_count": 7,
     "metadata": {},
     "output_type": "execute_result"
    }
   ],
   "source": [
    "df.columns"
   ]
  },
  {
   "cell_type": "markdown",
   "metadata": {},
   "source": [
    "# Analysis"
   ]
  },
  {
   "cell_type": "code",
   "execution_count": 9,
   "metadata": {
    "ExecuteTime": {
     "end_time": "2019-03-04T04:51:45.099005Z",
     "start_time": "2019-03-04T04:51:44.687888Z"
    }
   },
   "outputs": [
    {
     "name": "stdout",
     "output_type": "stream",
     "text": [
      "Total Bicyclist Fatalities in Los Angeles from 2013-12018 is: 78\n",
      "\n",
      "Total Bicyclist Fatalities in Los Angeles from 2013-12018 is: 10862\n",
      "\n",
      "Yearly Bicyclist Accidents in Los Angeles from 2013-12018 is: \n",
      "2013    2414\n",
      "2014    2309\n",
      "2015    2161\n",
      "2016    2002\n",
      "2017    1984\n",
      "2018     768\n",
      "Name: accident_year, dtype: int64\n",
      "\n",
      "Bicyclist Accidents in Los Angeles from 2013-12018 by month is: \n",
      "1      900\n",
      "2      987\n",
      "3     1092\n",
      "4     1100\n",
      "5     1103\n",
      "6      971\n",
      "7      974\n",
      "8      986\n",
      "9      952\n",
      "10     991\n",
      "11     872\n",
      "12     710\n",
      "Name: month_, dtype: int64\n",
      "\n",
      "Top 10 roads with the most bicycle accidents in Los Angeles 2013-2018\n"
     ]
    },
    {
     "data": {
      "text/plain": [
       "<matplotlib.axes._subplots.AxesSubplot at 0x1a27b9d748>"
      ]
     },
     "execution_count": 9,
     "metadata": {},
     "output_type": "execute_result"
    },
    {
     "data": {
      "image/png": "[encoded data removed]",
      "text/plain": [
       "<Figure size 432x288 with 1 Axes>"
      ]
     },
     "metadata": {
      "needs_background": "light"
     },
     "output_type": "display_data"
    }
   ],
   "source": [
    "# number of bycyclist fatalities\n",
    "print(\"Total Bicyclist Fatalities in Los Angeles from 2013-12018 is: \" + str(len(df[df['count_bicyclist_killed'] == 1])))\n",
    "print()\n",
    "# number of bycyclist injuries(non-fatal)\n",
    "print(\"Total Bicyclist Fatalities in Los Angeles from 2013-12018 is: \" + str(len(df[df['count_bicyclist_injured'] == 1])))\n",
    "print()\n",
    "# Bicycle accidents by year\n",
    "print(\"Yearly Bicyclist Accidents in Los Angeles from 2013-12018 is: \")\n",
    "print(df.accident_year.value_counts().sort_index(ascending=True))\n",
    "print()\n",
    "# Bicycle accidents by month\n",
    "print(\"Bicyclist Accidents in Los Angeles from 2013-12018 by month is: \")\n",
    "print(df.month_.value_counts().sort_index(ascending=True))\n",
    "print()\n",
    "\n",
    "# Top 10 roads with the most bicycle accidents\n",
    "print('Top 10 roads with the most bicycle accidents in Los Angeles 2013-2018')\n",
    "df.m_primaryrd.value_counts().head(10)\n",
    "\n",
    "#Show Map\n",
    "df.accident_year.value_counts().sort_index(ascending=True).plot()"
   ]
  },
  {
   "cell_type": "markdown",
   "metadata": {},
   "source": [
    "# Map"
   ]
  },
  {
   "cell_type": "code",
   "execution_count": null,
   "metadata": {
    "ExecuteTime": {
     "start_time": "2019-03-04T04:56:03.164Z"
    }
   },
   "outputs": [],
   "source": [
    "m=folium.Map(location=[34.1, -118.3], \n",
    "             zoom_start=11, \n",
    "             tiles='stamenterrain', \n",
    "             no_wrap=True,)\n",
    "\n",
    "mc = folium.plugins.MarkerCluster().add_to(m)\n",
    "\n",
    "\n",
    "heat_df = df[['point_y', 'point_x']]\n",
    "heat_data = [[row['point_y'],row['point_x']] for index, row in heat_df.iterrows()]\n",
    "plugins.HeatMap(heat_data, \n",
    "                radius=5,\n",
    "                max_zoom=12,\n",
    "                max_val=0.7,\n",
    "                gradient={0.4: 'blue', 0.65: 'lime', .8: 'red'},\n",
    "               ).add_to(mc)\n",
    "'''\n",
    "# Map of Bicycle Accident in/or around Atwater Village\n",
    "for lon,lat, addr in zip(atwater.point_y, atwater.point_x, atwater.match_addr ):\n",
    "    folium.CircleMarker(location=[lon, lat],\n",
    "                        fill_color='red',\n",
    "                        fill_opacity=0.5,\n",
    "                        popup = str(addr)).add_to(mc)\n",
    "'''\n",
    "\n",
    "# Map of Bicycle Accident in LA\n",
    "for lon,lat, addr in zip(df.point_y, df.point_x, df.match_addr ):\n",
    "    folium.CircleMarker(location=[lon, lat],\n",
    "                       fill_color='red',\n",
    "                       popup = str(addr)).add_to(mc)\n",
    "\n",
    "    \n",
    "folium.plugins.Fullscreen().add_to(m)\n",
    "m.save('/Users/nonoumasy/Desktop/temp.html')\n",
    "m\n"
   ]
  },
  {
   "cell_type": "code",
   "execution_count": null,
   "metadata": {},
   "outputs": [],
   "source": []
  }
 ],
 "metadata": {
  "kernelspec": {
   "display_name": "Python 3",
   "language": "python",
   "name": "python3"
  },
  "language_info": {
   "codemirror_mode": {
    "name": "ipython",
    "version": 3
   },
   "file_extension": ".py",
   "mimetype": "text/x-python",
   "name": "python",
   "nbconvert_exporter": "python",
   "pygments_lexer": "ipython3",
   "version": "3.6.6"
  },
  "toc": {
   "base_numbering": 1,
   "nav_menu": {},
   "number_sections": true,
   "sideBar": true,
   "skip_h1_title": false,
   "title_cell": "Table of Contents",
   "title_sidebar": "Contents",
   "toc_cell": false,
   "toc_position": {},
   "toc_section_display": true,
   "toc_window_display": false
  }
 },
 "nbformat": 4,
 "nbformat_minor": 2
}
